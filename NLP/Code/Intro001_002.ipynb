{
  "nbformat": 4,
  "nbformat_minor": 0,
  "metadata": {
    "colab": {
      "provenance": []
    },
    "kernelspec": {
      "name": "python3",
      "display_name": "Python 3"
    },
    "language_info": {
      "name": "python"
    }
  },
  "cells": [
    {
      "cell_type": "code",
      "execution_count": 1,
      "metadata": {
        "id": "EpW7j28RO4yZ",
        "colab": {
          "base_uri": "https://localhost:8080/",
          "height": 73
        },
        "outputId": "01d105cb-ae07-4970-fee8-bc049361e698"
      },
      "outputs": [
        {
          "output_type": "execute_result",
          "data": {
            "text/plain": [
              "'\\nTopics Covered\\n1. Language Processing -> Python\\n2. Corpus Processing Tools\\n3. Encoding and Annotation Schemes\\n4. Python for Numerical Computations\\n5. Information Theory and Machine Learning\\n6. Linear and Logistic Regression\\n7. Neural Networks\\n8. Counting and Indexing Words\\n9. Word Sequences\\n10. Dense Vector Representations\\n11. Words, Parts of Speech and Morphology\\n12. Subword Segmentation\\n13. Part-of-Speech and Sequence Annotation\\n14. Self-Attention and Transformers\\n15. Pretraining an Encoder: The BERT Language Model\\n16. Sequence-to-sequence Architectures: Encoder-Decoder and Decoders\\n'"
            ],
            "application/vnd.google.colaboratory.intrinsic+json": {
              "type": "string"
            }
          },
          "metadata": {},
          "execution_count": 1
        }
      ],
      "source": [
        "'''\n",
        "These are the notes from the book\n",
        "Nugues, P. M. (2024). Python for Natural Language Processing: Programming with NumPy, Scikit-learn, Keras, and PyTorch. Springer.\n",
        "'''\n",
        "\n",
        "'''\n",
        "Topics Covered\n",
        "1. Language Processing -> Python\n",
        "2. Corpus Processing Tools\n",
        "3. Encoding and Annotation Schemes\n",
        "4. Python for Numerical Computations\n",
        "5. Information Theory and Machine Learning\n",
        "6. Linear and Logistic Regression\n",
        "7. Neural Networks\n",
        "8. Counting and Indexing Words\n",
        "9. Word Sequences\n",
        "10. Dense Vector Representations\n",
        "11. Words, Parts of Speech and Morphology\n",
        "12. Subword Segmentation\n",
        "13. Part-of-Speech and Sequence Annotation\n",
        "14. Self-Attention and Transformers\n",
        "15. Pretraining an Encoder: The BERT Language Model\n",
        "16. Sequence-to-sequence Architectures: Encoder-Decoder and Decoders\n",
        "'''"
      ]
    },
    {
      "cell_type": "code",
      "source": [
        "'''\n",
        "Applications of NLP\n",
        "1. Spelling and grammar checks\n",
        "2. Text indexing and information retrieval from the internet\n",
        "3. Speech Transcription\n",
        "4. Voice Control of domestic voices\n",
        "5. Interactive voice response applications\n",
        "6. Question answering\n",
        "7. Machine Translation\n",
        "'''"
      ],
      "metadata": {
        "id": "yuikglMRQSV1",
        "colab": {
          "base_uri": "https://localhost:8080/",
          "height": 73
        },
        "outputId": "e22fab4a-8b0c-4369-cf45-5101cf0e97f2"
      },
      "execution_count": null,
      "outputs": [
        {
          "output_type": "execute_result",
          "data": {
            "text/plain": [
              "'\\nApplications of NLP\\n1. Spelling and grammar checks\\n2. Text indexing and information retrieval from the internet\\n3. Speech Transcription\\n4. Voice Control of domestic voices\\n5. Interactive voice response applications\\n6. Question answering\\n7. Machine Translation\\n'"
            ],
            "application/vnd.google.colaboratory.intrinsic+json": {
              "type": "string"
            }
          },
          "metadata": {},
          "execution_count": 2
        }
      ]
    },
    {
      "cell_type": "code",
      "source": [
        "# A simple for loop\n",
        "for i in [1,2,3,4,5,6,7]:\n",
        "\tprint(i)\n",
        "print('Done')"
      ],
      "metadata": {
        "colab": {
          "base_uri": "https://localhost:8080/"
        },
        "id": "W7_0ZYIoX8lC",
        "outputId": "f2099d32-38a2-4135-cd68-5d9e4871a00b"
      },
      "execution_count": 2,
      "outputs": [
        {
          "output_type": "stream",
          "name": "stdout",
          "text": [
            "1\n",
            "2\n",
            "3\n",
            "4\n",
            "5\n",
            "6\n",
            "7\n",
            "Done\n"
          ]
        }
      ]
    },
    {
      "cell_type": "code",
      "source": [
        "iliad_opening2 = 'Sing, O goddess, the anger of Achilles son of \\\n",
        "Peleus, that brought countless ills upon the Achaeans'\n",
        "print(iliad_opening2)"
      ],
      "metadata": {
        "colab": {
          "base_uri": "https://localhost:8080/"
        },
        "id": "ruI7_8hdl8bM",
        "outputId": "3101d5d2-b0d5-4541-e72e-1f34bbb9d03d"
      },
      "execution_count": 3,
      "outputs": [
        {
          "output_type": "stream",
          "name": "stdout",
          "text": [
            "Sing, O goddess, the anger of Achilles son of Peleus, that brought countless ills upon the Achaeans\n"
          ]
        }
      ]
    },
    {
      "cell_type": "code",
      "source": [
        "# if else condition\n",
        "for i in [1,2,3,4,5,6,7]:\n",
        "\tif i%2 == 0:\n",
        "\t\tprint(\"Even\", i)\n",
        "\telse:\n",
        "\t\tprint(\"Odd\", i)\n",
        "print('Done')"
      ],
      "metadata": {
        "colab": {
          "base_uri": "https://localhost:8080/"
        },
        "id": "ucp97wAIX9Et",
        "outputId": "0849f24e-070e-41c6-c7c2-8bdcdd978203"
      },
      "execution_count": 4,
      "outputs": [
        {
          "output_type": "stream",
          "name": "stdout",
          "text": [
            "Odd 1\n",
            "Even 2\n",
            "Odd 3\n",
            "Even 4\n",
            "Odd 5\n",
            "Even 6\n",
            "Odd 7\n",
            "Done\n"
          ]
        }
      ]
    },
    {
      "cell_type": "code",
      "source": [
        "# str.join(list)\n",
        "''.join(['abc', 'def', 'gi']) # join without spaces"
      ],
      "metadata": {
        "id": "pF28cmuMYRgf",
        "colab": {
          "base_uri": "https://localhost:8080/",
          "height": 36
        },
        "outputId": "b4d2f83d-75cc-4f93-aa88-ba3591d1227b"
      },
      "execution_count": 6,
      "outputs": [
        {
          "output_type": "execute_result",
          "data": {
            "text/plain": [
              "'abcdefgi'"
            ],
            "application/vnd.google.colaboratory.intrinsic+json": {
              "type": "string"
            }
          },
          "metadata": {},
          "execution_count": 6
        }
      ]
    },
    {
      "cell_type": "code",
      "source": [
        "# join stings in the list with spaces\n",
        "' '.join(['abc', 'def', 'ghi'])"
      ],
      "metadata": {
        "colab": {
          "base_uri": "https://localhost:8080/",
          "height": 36
        },
        "id": "cxkiWlsDnt68",
        "outputId": "f5158e39-a3c4-443c-9538-cf2e2301cc7c"
      },
      "execution_count": 7,
      "outputs": [
        {
          "output_type": "execute_result",
          "data": {
            "text/plain": [
              "'abc def ghi'"
            ],
            "application/vnd.google.colaboratory.intrinsic+json": {
              "type": "string"
            }
          },
          "metadata": {},
          "execution_count": 7
        }
      ]
    },
    {
      "cell_type": "code",
      "source": [
        "# join the strings in the list with the ', '\n",
        "', '.join(['abc', 'def', 'ghi'])"
      ],
      "metadata": {
        "colab": {
          "base_uri": "https://localhost:8080/",
          "height": 36
        },
        "id": "_tUsPiP4n4Tv",
        "outputId": "10b7a0a2-2340-48c3-eea7-38795b7b35a1"
      },
      "execution_count": 8,
      "outputs": [
        {
          "output_type": "execute_result",
          "data": {
            "text/plain": [
              "'abc, def, ghi'"
            ],
            "application/vnd.google.colaboratory.intrinsic+json": {
              "type": "string"
            }
          },
          "metadata": {},
          "execution_count": 8
        }
      ]
    },
    {
      "cell_type": "code",
      "source": [
        "# Usage of\n",
        "# str.upper()\n",
        "# str.lower()\n",
        "accented_e = \"eéèêë\"\n",
        "print(accented_e.upper())\n",
        "accented_E = \"EÉÈÊË\"\n",
        "print(accented_E.lower())"
      ],
      "metadata": {
        "colab": {
          "base_uri": "https://localhost:8080/"
        },
        "id": "EI4EXzBNbj8d",
        "outputId": "c292f88e-e16e-43f8-cc07-b342daeec855"
      },
      "execution_count": 9,
      "outputs": [
        {
          "output_type": "stream",
          "name": "stdout",
          "text": [
            "EÉÈÊË\n",
            "eéèêë\n"
          ]
        }
      ]
    },
    {
      "cell_type": "code",
      "source": [
        "# Searching and replacing substrings in strings\n",
        "# str.find() - returns the index of the first occurence of the substring\n",
        "# str.replace() - replaces all the occurences of the substring and returns a new string\n",
        "alphabet = 'αβγdefghijklmnopqrstuvwxyz'\n",
        "print(alphabet.find('def'))\n",
        "print(alphabet.find('é')) # returns -1 if string not found\n",
        "alphabet.replace('abc', 'αβγ') # 'αβγdefghijklmnopqrstuvwxyz'\n",
        "print(alphabet)"
      ],
      "metadata": {
        "colab": {
          "base_uri": "https://localhost:8080/"
        },
        "id": "VuEcZSq1AIYb",
        "outputId": "3d06891f-edf6-4cb6-8d98-1153cc9ea665"
      },
      "execution_count": 10,
      "outputs": [
        {
          "output_type": "stream",
          "name": "stdout",
          "text": [
            "3\n",
            "-1\n",
            "αβγdefghijklmnopqrstuvwxyz\n"
          ]
        }
      ]
    },
    {
      "cell_type": "code",
      "source": [
        "iliad_opening = '''Sing, O goddess, the anger of Achilles son of Peleus, that brought countless ills upon the Achaeans. Many a brave soul did it send hurrying down to Hades, and many a hero did it yield a prey to dogs and vultures, for so were the counsels of Jove fulfilled from the day on which the son of Atreus, king of men, and great Achilles, first fell out with one another.\n",
        "'''\n",
        "text_vowels = ''\n",
        "for c in iliad_opening:\n",
        "\tif c in 'aeiou':\n",
        "\t\ttext_vowels += c\n",
        "print(text_vowels) # 'ioeeaeoieooeeuaououeiuoeaea'"
      ],
      "metadata": {
        "colab": {
          "base_uri": "https://localhost:8080/"
        },
        "id": "PJ6Fq4dMAJF0",
        "outputId": "f438d82b-3b63-4518-a6c9-d40b58839207"
      },
      "execution_count": 11,
      "outputs": [
        {
          "output_type": "stream",
          "name": "stdout",
          "text": [
            "ioeeaeoieooeeuaououeiuoeaeaaaaeouiieuiooaeaaaeoiiieaeooauueooeeeoueooeuieoeaoieooeuioeaeaieieouioeaoe\n"
          ]
        }
      ]
    },
    {
      "cell_type": "code",
      "source": [
        "# Slices - extract substrings of a string\n",
        "print(alphabet[0:3])\n",
        "print(alphabet[:3])\n",
        "print(alphabet[3:6])\n",
        "print(alphabet[-3:])\n",
        "print(alphabet[10:-10])\n",
        "print(alphabet[:])"
      ],
      "metadata": {
        "colab": {
          "base_uri": "https://localhost:8080/"
        },
        "id": "_gQA9nxkqQEr",
        "outputId": "efb1b0aa-2e93-4b87-aaaf-2eb7118d1f59"
      },
      "execution_count": 12,
      "outputs": [
        {
          "output_type": "stream",
          "name": "stdout",
          "text": [
            "αβγ\n",
            "αβγ\n",
            "def\n",
            "xyz\n",
            "klmnop\n",
            "αβγdefghijklmnopqrstuvwxyz\n"
          ]
        }
      ]
    },
    {
      "cell_type": "code",
      "source": [
        "# this will result in original string\n",
        "print(alphabet[:i] + alphabet[i:])"
      ],
      "metadata": {
        "colab": {
          "base_uri": "https://localhost:8080/"
        },
        "id": "j03q1P5qq78r",
        "outputId": "39ccf465-096d-4c29-b803-c8102296faa4"
      },
      "execution_count": 13,
      "outputs": [
        {
          "output_type": "stream",
          "name": "stdout",
          "text": [
            "αβγdefghijklmnopqrstuvwxyz\n"
          ]
        }
      ]
    },
    {
      "cell_type": "code",
      "source": [
        "# adding step to the slices\n",
        "# [start:end:step]\n",
        "print(alphabet[0::2])"
      ],
      "metadata": {
        "colab": {
          "base_uri": "https://localhost:8080/"
        },
        "id": "miOMzKYmrJ-i",
        "outputId": "f9b6681f-6fcb-45b3-ac6d-e06b9653ce3c"
      },
      "execution_count": 14,
      "outputs": [
        {
          "output_type": "stream",
          "name": "stdout",
          "text": [
            "αγegikmoqsuwy\n"
          ]
        }
      ]
    },
    {
      "cell_type": "code",
      "source": [
        "# Special Characters\n",
        "print('Python\\'s strings') # using escape character"
      ],
      "metadata": {
        "colab": {
          "base_uri": "https://localhost:8080/"
        },
        "id": "ZmtCu90Nr1UL",
        "outputId": "2c0b4644-77dd-4c7f-b64d-c2dc2ddfb1ff"
      },
      "execution_count": 15,
      "outputs": [
        {
          "output_type": "stream",
          "name": "stdout",
          "text": [
            "Python's strings\n"
          ]
        }
      ]
    },
    {
      "cell_type": "code",
      "source": [
        "# raw strings\n",
        "print(r\"can we see how this works'' ''' \"\" \")"
      ],
      "metadata": {
        "colab": {
          "base_uri": "https://localhost:8080/"
        },
        "id": "jMe8k4v5sFTC",
        "outputId": "b4e0e83c-1952-4f23-f953-7ee4cd8b1d6d"
      },
      "execution_count": 16,
      "outputs": [
        {
          "output_type": "stream",
          "name": "stdout",
          "text": [
            "can we see how this works'' '''  \n"
          ]
        }
      ]
    },
    {
      "cell_type": "code",
      "source": [
        "# Formatting Strings\n",
        "begin = 'my'\n",
        "print('{} string {}'.format(begin, 'is empty'))\n",
        "\n",
        "# Reordering arguments\n",
        "begin = 'my'\n",
        "print('{1} string {0}'.format('is empty', begin))"
      ],
      "metadata": {
        "colab": {
          "base_uri": "https://localhost:8080/"
        },
        "id": "ExwXWVGKs2mo",
        "outputId": "8fb12f3d-1c03-4e68-9a66-c6a510a40b9e"
      },
      "execution_count": 17,
      "outputs": [
        {
          "output_type": "stream",
          "name": "stdout",
          "text": [
            "my string is empty\n",
            "my string is empty\n"
          ]
        }
      ]
    },
    {
      "cell_type": "code",
      "source": [
        "# Data Identities and Types\n",
        "# Object identity id()\n",
        "# Object type type()\n",
        "var1 = 12\n",
        "print(var1)\n",
        "print(id(var1)) # Object identity\n",
        "print(type(var1)) # Object type"
      ],
      "metadata": {
        "colab": {
          "base_uri": "https://localhost:8080/"
        },
        "id": "78uz1TKjv-26",
        "outputId": "8169a449-dde7-459c-ad95-fb458e0c165e"
      },
      "execution_count": 18,
      "outputs": [
        {
          "output_type": "stream",
          "name": "stdout",
          "text": [
            "12\n",
            "10758088\n",
            "<class 'int'>\n"
          ]
        }
      ]
    },
    {
      "cell_type": "code",
      "source": [
        "# None value is a unique member, equivalent to null in C\n",
        "print(type(12.0))\n",
        "print(type(True))\n",
        "print(type(1<2))\n",
        "print(type(None))"
      ],
      "metadata": {
        "colab": {
          "base_uri": "https://localhost:8080/"
        },
        "id": "Y0xDYJOaw0Pg",
        "outputId": "493aa849-9cdd-488f-b3be-612ec1c5089e"
      },
      "execution_count": 19,
      "outputs": [
        {
          "output_type": "stream",
          "name": "stdout",
          "text": [
            "<class 'float'>\n",
            "<class 'bool'>\n",
            "<class 'bool'>\n",
            "<class 'NoneType'>\n"
          ]
        }
      ]
    },
    {
      "cell_type": "code",
      "source": [
        "# String datatype\n",
        "print('12')\n",
        "print(id('12'))\n",
        "print(type('12'))"
      ],
      "metadata": {
        "colab": {
          "base_uri": "https://localhost:8080/"
        },
        "id": "wncdHRsOxOhR",
        "outputId": "60daff7c-f252-488e-c8a8-021331610118"
      },
      "execution_count": 20,
      "outputs": [
        {
          "output_type": "stream",
          "name": "stdout",
          "text": [
            "12\n",
            "132536116506480\n",
            "<class 'str'>\n"
          ]
        }
      ]
    },
    {
      "cell_type": "code",
      "source": [
        "print(alphabet)\n",
        "print(id(alphabet))\n",
        "print(type(alphabet))"
      ],
      "metadata": {
        "colab": {
          "base_uri": "https://localhost:8080/"
        },
        "id": "V2RoRuRYxary",
        "outputId": "46367082-bdb4-475b-c10c-9a55658f1940"
      },
      "execution_count": 21,
      "outputs": [
        {
          "output_type": "stream",
          "name": "stdout",
          "text": [
            "αβγdefghijklmnopqrstuvwxyz\n",
            "132536126322512\n",
            "<class 'str'>\n"
          ]
        }
      ]
    },
    {
      "cell_type": "code",
      "source": [
        "# Data Structures\n",
        "# Lists\n",
        "list1 = [] # An empty list\n",
        "print(list1)\n",
        "list1 = list() # Another way to create an empty list\n",
        "print(list1)\n",
        "\n",
        "list2 = [1,2,3]\n",
        "print(list2)\n",
        "print(type(list2))"
      ],
      "metadata": {
        "colab": {
          "base_uri": "https://localhost:8080/"
        },
        "id": "BQWeiRYBxrcw",
        "outputId": "0f529427-93a6-4bc4-c508-a63324b181e2"
      },
      "execution_count": 22,
      "outputs": [
        {
          "output_type": "stream",
          "name": "stdout",
          "text": [
            "[]\n",
            "[]\n",
            "[1, 2, 3]\n",
            "<class 'list'>\n"
          ]
        }
      ]
    },
    {
      "cell_type": "code",
      "source": [
        "# List can contain elements of different types\n",
        "var1 = 3.14\n",
        "var2 = 'my string'\n",
        "list3 = [1, var1, 'Prolog', 'my string', var2]\n",
        "print(list3)"
      ],
      "metadata": {
        "colab": {
          "base_uri": "https://localhost:8080/"
        },
        "id": "Ye0l543MyT9y",
        "outputId": "76a37c8b-699e-457e-ece9-3095da52fde4"
      },
      "execution_count": 23,
      "outputs": [
        {
          "output_type": "stream",
          "name": "stdout",
          "text": [
            "[1, 3.14, 'Prolog', 'my string', 'my string']\n"
          ]
        }
      ]
    },
    {
      "cell_type": "code",
      "source": [
        "# Slicing in Lists\n",
        "print(list3[1:3])\n",
        "\n",
        "# Assigning a list to slice\n",
        "list3[1:3] = [2.72, 'Perl', 'Python']"
      ],
      "metadata": {
        "colab": {
          "base_uri": "https://localhost:8080/"
        },
        "id": "z7bpiuEQypvG",
        "outputId": "107febd8-19c8-404c-cdb8-84834afb3264"
      },
      "execution_count": 24,
      "outputs": [
        {
          "output_type": "stream",
          "name": "stdout",
          "text": [
            "[3.14, 'Prolog']\n"
          ]
        }
      ]
    },
    {
      "cell_type": "code",
      "source": [
        "# Creating a lists of lists\n",
        "list4 = [list2, list3]\n",
        "print(list4)"
      ],
      "metadata": {
        "colab": {
          "base_uri": "https://localhost:8080/"
        },
        "id": "MlUEjit0y_PH",
        "outputId": "e033e0a9-81b0-4d52-d404-ad007cf9d1c4"
      },
      "execution_count": 25,
      "outputs": [
        {
          "output_type": "stream",
          "name": "stdout",
          "text": [
            "[[1, 2, 3], [1, 2.72, 'Perl', 'Python', 'my string', 'my string']]\n"
          ]
        }
      ]
    },
    {
      "cell_type": "code",
      "source": [
        "# Accessing the elements of the inner list\n",
        "print(list4[0][1])\n",
        "print(list4[1][3])"
      ],
      "metadata": {
        "colab": {
          "base_uri": "https://localhost:8080/"
        },
        "id": "N9ZkL0ibzKzC",
        "outputId": "04a9bb0c-1c99-44b7-dcf5-948562ddfcf2"
      },
      "execution_count": 26,
      "outputs": [
        {
          "output_type": "stream",
          "name": "stdout",
          "text": [
            "2\n",
            "Python\n"
          ]
        }
      ]
    },
    {
      "cell_type": "code",
      "source": [
        "# assigning a complete list to a variable\n",
        "# list of list of variables\n",
        "list5 = list2\n",
        "[v1, v2, v3] = list5\n",
        "\n",
        "print(v1, v2, v3)"
      ],
      "metadata": {
        "colab": {
          "base_uri": "https://localhost:8080/"
        },
        "id": "6ZXnDKtIzZ9W",
        "outputId": "683843f3-8d2f-40d3-b2b1-7ea8ed4b9776"
      },
      "execution_count": 27,
      "outputs": [
        {
          "output_type": "stream",
          "name": "stdout",
          "text": [
            "1 2 3\n"
          ]
        }
      ]
    },
    {
      "cell_type": "code",
      "source": [
        "# List Copy\n",
        "# copy() does not copy the inner objects of the list, only the identities\n",
        "list6 = list2.copy()\n",
        "\n",
        "print(list2)\n",
        "print(list5)\n",
        "\n",
        "print(id(list2))\n",
        "print(id(list5))\n",
        "\n",
        "list6 = list2.copy()\n",
        "print(id(list6))\n",
        "\n",
        "# list5 = list2, this means the lists are identical\n",
        "# list6 = list2.copy, this means lists are equal\n",
        "\n",
        "print(list2 == list5)\n",
        "print(list2 == list6)"
      ],
      "metadata": {
        "colab": {
          "base_uri": "https://localhost:8080/"
        },
        "id": "IeaHcLNgzumB",
        "outputId": "eb0b9165-c479-49b9-cb17-8628dfdd4d58"
      },
      "execution_count": 28,
      "outputs": [
        {
          "output_type": "stream",
          "name": "stdout",
          "text": [
            "[1, 2, 3]\n",
            "[1, 2, 3]\n",
            "132536116549824\n",
            "132536116549824\n",
            "132536116549504\n",
            "True\n",
            "True\n"
          ]
        }
      ]
    },
    {
      "cell_type": "code",
      "source": [
        "# To create a complete independent list from the original\n",
        "# use deepcopy()\n",
        "\n",
        "import copy\n",
        "print(id(copy.deepcopy(list4)))"
      ],
      "metadata": {
        "colab": {
          "base_uri": "https://localhost:8080/"
        },
        "id": "gMbw9GZN1KfS",
        "outputId": "7051b01c-7bf4-463c-ab26-e929c0827cac"
      },
      "execution_count": 29,
      "outputs": [
        {
          "output_type": "stream",
          "name": "stdout",
          "text": [
            "132536125886400\n"
          ]
        }
      ]
    },
    {
      "cell_type": "code",
      "source": [
        "# Built-in list operations and functions\n",
        "print(list2)\n",
        "print(list3[:-1])\n",
        "print([1,2,3] + ['a', 'b'])\n",
        "print(list2[:2] + list3[2:-1])\n",
        "print(list2 * 2)\n",
        "print([0.0] * 4)"
      ],
      "metadata": {
        "colab": {
          "base_uri": "https://localhost:8080/"
        },
        "id": "kQ0HXr7q2DjA",
        "outputId": "0c745031-1a6d-4501-9895-69790896db02"
      },
      "execution_count": 30,
      "outputs": [
        {
          "output_type": "stream",
          "name": "stdout",
          "text": [
            "[1, 2, 3]\n",
            "[1, 2.72, 'Perl', 'Python', 'my string']\n",
            "[1, 2, 3, 'a', 'b']\n",
            "[1, 2, 'Perl', 'Python', 'my string']\n",
            "[1, 2, 3, 1, 2, 3]\n",
            "[0.0, 0.0, 0.0, 0.0]\n"
          ]
        }
      ]
    },
    {
      "cell_type": "code",
      "source": [
        "# some common functions for the lists\n",
        "# list.extend(elements)\n",
        "# list.append(element)\n",
        "# list.insert(idx, element)\n",
        "# list.remove(value)\n",
        "# list.pop(i)\n",
        "# del list[i]\n",
        "# len()\n",
        "# list.sort()\n",
        "# sorted()"
      ],
      "metadata": {
        "id": "vGp0DecK2gPo"
      },
      "execution_count": 31,
      "outputs": []
    },
    {
      "cell_type": "code",
      "source": [
        "print(list2)\n",
        "print(len(list2))\n",
        "print(list2.extend([4,5]))\n",
        "print(list2.append(6))\n",
        "print(list2.append([7,8]))\n",
        "print(list2.pop(-1))\n",
        "print(list2.remove(1))\n",
        "print(list2.insert(0, 'a'))"
      ],
      "metadata": {
        "colab": {
          "base_uri": "https://localhost:8080/"
        },
        "id": "F2AorqcY227a",
        "outputId": "3bdc7eab-8213-4e65-b203-f5ed469659f4"
      },
      "execution_count": 32,
      "outputs": [
        {
          "output_type": "stream",
          "name": "stdout",
          "text": [
            "[1, 2, 3]\n",
            "3\n",
            "None\n",
            "None\n",
            "None\n",
            "[7, 8]\n",
            "None\n",
            "None\n"
          ]
        }
      ]
    },
    {
      "cell_type": "code",
      "source": [
        "# To know all the functions associated with a type\n",
        "# dir(list)\n",
        "# dir(str)\n",
        "# help(list)\n",
        "# help(list.append)"
      ],
      "metadata": {
        "id": "Jvmyt-SO3kzA"
      },
      "execution_count": 33,
      "outputs": []
    },
    {
      "cell_type": "code",
      "source": [
        "# Tuples\n",
        "# Tuples are sequences enclosed in parentheses\n",
        "# They are immutable\n",
        "\n",
        "tuple1 = () # An empty tuple\n",
        "tuple1 = tuple() # Another way of creating an empty tuple\n",
        "tuple2 = (1,2,3,4)\n",
        "tuple2[3]\n",
        "tuple2[1:4]\n",
        "# tuple2[3] = 8 # type error, tuples are immutable"
      ],
      "metadata": {
        "colab": {
          "base_uri": "https://localhost:8080/"
        },
        "id": "kbzq6Z383yvZ",
        "outputId": "ac3bf60a-57dd-449d-b53b-cabc4882d651"
      },
      "execution_count": null,
      "outputs": [
        {
          "output_type": "execute_result",
          "data": {
            "text/plain": [
              "(2, 3, 4)"
            ]
          },
          "metadata": {},
          "execution_count": 48
        }
      ]
    },
    {
      "cell_type": "code",
      "source": [
        "# Enclosing in parenthesis\n",
        "print(type((1)))\n",
        "print(type((1, )))"
      ],
      "metadata": {
        "colab": {
          "base_uri": "https://localhost:8080/"
        },
        "id": "wuAu2EOc4iLj",
        "outputId": "403dd25f-6807-4a8a-fed7-a907ac264eb5"
      },
      "execution_count": null,
      "outputs": [
        {
          "output_type": "stream",
          "name": "stdout",
          "text": [
            "<class 'int'>\n",
            "<class 'tuple'>\n"
          ]
        }
      ]
    },
    {
      "cell_type": "code",
      "source": [
        "# we can convert list to tuples\n",
        "# and tuples to list\n",
        "\n",
        "list7 = ['a', 'b', 'c']\n",
        "print(list7)\n",
        "tuple3 = tuple(list7)\n",
        "print(tuple3)\n",
        "print(type(tuple3))"
      ],
      "metadata": {
        "colab": {
          "base_uri": "https://localhost:8080/"
        },
        "id": "qPV-hdY65Bwj",
        "outputId": "9cd78f43-8242-4523-ce01-2da64b87dbb9"
      },
      "execution_count": null,
      "outputs": [
        {
          "output_type": "stream",
          "name": "stdout",
          "text": [
            "['a', 'b', 'c']\n",
            "('a', 'b', 'c')\n",
            "<class 'tuple'>\n"
          ]
        }
      ]
    },
    {
      "cell_type": "code",
      "source": [
        "list8 = list(tuple2)\n",
        "print(list8)\n",
        "print(tuple([1]))\n",
        "print(list((1,)))"
      ],
      "metadata": {
        "colab": {
          "base_uri": "https://localhost:8080/"
        },
        "id": "YVkokYJr7UNW",
        "outputId": "90e94cec-9ac5-4e53-82c2-ff15f4887ce3"
      },
      "execution_count": null,
      "outputs": [
        {
          "output_type": "stream",
          "name": "stdout",
          "text": [
            "[1, 2, 3, 4]\n",
            "(1,)\n",
            "[1]\n"
          ]
        }
      ]
    },
    {
      "cell_type": "code",
      "source": [
        "# Tuple can include elements of different type\n",
        "\n",
        "tuple4 = (tuple2, list7)\n",
        "print(tuple4)\n",
        "\n",
        "print(tuple4[0])\n",
        "print(tuple4[1])\n",
        "\n",
        "print(tuple4[0][2])\n",
        "print(tuple4[1][1])"
      ],
      "metadata": {
        "colab": {
          "base_uri": "https://localhost:8080/"
        },
        "id": "snoywTJc7rCw",
        "outputId": "60a97cb7-8672-479b-e123-57ccca4a99ed"
      },
      "execution_count": null,
      "outputs": [
        {
          "output_type": "stream",
          "name": "stdout",
          "text": [
            "((1, 2, 3, 4), ['a', 'b', 'c'])\n",
            "(1, 2, 3, 4)\n",
            "['a', 'b', 'c']\n",
            "3\n",
            "b\n"
          ]
        }
      ]
    },
    {
      "cell_type": "code",
      "source": [
        "# Sets\n",
        "# Sets are collections that have no duplicates\n",
        "\n",
        "set1 = set() # An empty set\n",
        "set2 = {'a', 'b', 'c', 'c', 'b'}\n",
        "print(set2)\n",
        "print(type(set2))"
      ],
      "metadata": {
        "colab": {
          "base_uri": "https://localhost:8080/"
        },
        "id": "mpY_PUWU9A6M",
        "outputId": "4997e4c2-a900-4d22-86fb-3ff294647d37"
      },
      "execution_count": null,
      "outputs": [
        {
          "output_type": "stream",
          "name": "stdout",
          "text": [
            "{'a', 'b', 'c'}\n",
            "<class 'set'>\n"
          ]
        }
      ]
    },
    {
      "cell_type": "code",
      "source": [
        "# adding and removing elements\n",
        "# add()\n",
        "# remove()\n",
        "\n",
        "set2.add('d')\n",
        "print(set2)\n",
        "\n",
        "set2.remove('a')\n",
        "print(set2)"
      ],
      "metadata": {
        "colab": {
          "base_uri": "https://localhost:8080/"
        },
        "id": "oT4DbH-G9kPd",
        "outputId": "9971748a-cd2f-4227-b472-edad7b7c0cf0"
      },
      "execution_count": null,
      "outputs": [
        {
          "output_type": "stream",
          "name": "stdout",
          "text": [
            "{'d', 'a', 'b', 'c'}\n",
            "{'d', 'b', 'c'}\n"
          ]
        }
      ]
    },
    {
      "cell_type": "code",
      "source": [
        "# Sets are useful to extract the unique elements of lists or strings\n",
        "list9 = ['a', 'b', 'c', 'c', 'b']\n",
        "print(list9)\n",
        "set3 = set(list9)\n",
        "print(set3)"
      ],
      "metadata": {
        "colab": {
          "base_uri": "https://localhost:8080/"
        },
        "id": "S4ERtyxY97pj",
        "outputId": "ba8cd08c-c0ff-4ebc-d8e4-5cc8bfb7c5e0"
      },
      "execution_count": null,
      "outputs": [
        {
          "output_type": "stream",
          "name": "stdout",
          "text": [
            "['a', 'b', 'c', 'c', 'b']\n",
            "{'a', 'b', 'c'}\n"
          ]
        }
      ]
    },
    {
      "cell_type": "code",
      "source": [
        "iliad_chars = set(iliad_opening.lower())\n",
        "print(iliad_opening)\n",
        "print(iliad_chars)"
      ],
      "metadata": {
        "colab": {
          "base_uri": "https://localhost:8080/"
        },
        "id": "txJAf3mY-gsA",
        "outputId": "1a66ffde-7b1c-4aab-ffcd-81d72d1e69bc"
      },
      "execution_count": null,
      "outputs": [
        {
          "output_type": "stream",
          "name": "stdout",
          "text": [
            "Sing, O goddess, the anger of Achilles son of Peleus, that brought countless ills upon the Achaeans. Many a brave soul did it send hurrying down to Hades, and many a hero did it yield a prey to dogs and vultures, for so were the counsels of Jove fulfilled from the day on which the son of Atreus, king of men, and great Achilles, first fell out with one another.\n",
            "\n",
            "{'e', 's', '.', 'g', 't', 'o', 'd', 'n', ',', 'm', '\\n', 'p', 'w', 'l', 'b', 'u', 'j', 'y', 'i', 'r', 'a', 'f', ' ', 'k', 'h', 'v', 'c'}\n"
          ]
        }
      ]
    },
    {
      "cell_type": "code",
      "source": [
        "# Sets are unordered\n",
        "# sorted()\n",
        "print(sorted(iliad_chars))"
      ],
      "metadata": {
        "colab": {
          "base_uri": "https://localhost:8080/"
        },
        "id": "rmSdNmB0-vnF",
        "outputId": "bc654f6a-fd0e-4791-c6f5-9d22d953a452"
      },
      "execution_count": null,
      "outputs": [
        {
          "output_type": "stream",
          "name": "stdout",
          "text": [
            "['\\n', ' ', ',', '.', 'a', 'b', 'c', 'd', 'e', 'f', 'g', 'h', 'i', 'j', 'k', 'l', 'm', 'n', 'o', 'p', 'r', 's', 't', 'u', 'v', 'w', 'y']\n"
          ]
        }
      ]
    },
    {
      "cell_type": "code",
      "source": [
        "# Built-in Set Functions\n",
        "# The set methods include the classical set operations\n",
        "# set1.intersection(set2, ...)\n",
        "# set1.union(set2, ...)\n",
        "# set1.difference(set2, ...)\n",
        "# set1.symmetric_difference(set2)\n",
        "# set1.issuperset(set2)\n",
        "# set1.issubset(set2)"
      ],
      "metadata": {
        "id": "VluAuGcb_EZ4"
      },
      "execution_count": null,
      "outputs": []
    },
    {
      "cell_type": "code",
      "source": [
        "print(set2.intersection(set3))\n",
        "print(set2 & set3)\n",
        "\n",
        "print(set2.union(set3))\n",
        "print(set2 | set3)\n",
        "\n",
        "set2.symmetric_difference(set3)\n",
        "set2.issubset(set3)\n",
        "\n",
        "print(sorted(iliad_chars.intersection(set(alphabet))))"
      ],
      "metadata": {
        "colab": {
          "base_uri": "https://localhost:8080/"
        },
        "id": "dIRGhzbtAIQO",
        "outputId": "4c7ee40d-c4b6-415c-dbce-98a6f3c8a884"
      },
      "execution_count": null,
      "outputs": [
        {
          "output_type": "stream",
          "name": "stdout",
          "text": [
            "{'b', 'c'}\n",
            "{'b', 'c'}\n",
            "{'d', 'a', 'b', 'c'}\n",
            "{'d', 'a', 'b', 'c'}\n",
            "['d', 'e', 'f', 'g', 'h', 'i', 'j', 'k', 'l', 'm', 'n', 'o', 'p', 'r', 's', 't', 'u', 'v', 'w', 'y']\n"
          ]
        }
      ]
    },
    {
      "cell_type": "code",
      "source": [
        "# Dictionaries\n",
        "# Dictionaries are the collections\n",
        "# The values are indexed by keys instead of ordered positions\n",
        "\n",
        "wordcount = {} # Creating an empty dictionary\n",
        "wordcount = dict() # Another way to create an empty dictionary\n",
        "\n",
        "wordcount['a'] = 21 # stored in a key value pair\n",
        "wordcount['And'] = 10\n",
        "wordcount['the'] = 18\n",
        "\n",
        "print(wordcount)\n",
        "print(type(wordcount))"
      ],
      "metadata": {
        "colab": {
          "base_uri": "https://localhost:8080/"
        },
        "id": "zK1Jg7WiAxeP",
        "outputId": "f3f37851-3e9b-420b-efba-787a2483d619"
      },
      "execution_count": null,
      "outputs": [
        {
          "output_type": "stream",
          "name": "stdout",
          "text": [
            "{'a': 21, 'And': 10, 'the': 18}\n",
            "<class 'dict'>\n"
          ]
        }
      ]
    },
    {
      "cell_type": "code",
      "source": [
        "print(wordcount['a'])\n",
        "print(wordcount['And'])"
      ],
      "metadata": {
        "colab": {
          "base_uri": "https://localhost:8080/"
        },
        "id": "_8NdLwgtTpM7",
        "outputId": "e9a99ec9-db0d-4477-fc2e-155f1bfca2e8"
      },
      "execution_count": null,
      "outputs": [
        {
          "output_type": "stream",
          "name": "stdout",
          "text": [
            "21\n",
            "10\n"
          ]
        }
      ]
    },
    {
      "cell_type": "code",
      "source": [
        "# To access a key in a dictionary without risking an error\n",
        "# we can use the get() function that has a default value\n",
        "# if the key is undefined\n",
        "\n",
        "print(wordcount.get('And'))\n",
        "print(wordcount.get('is', 0))"
      ],
      "metadata": {
        "colab": {
          "base_uri": "https://localhost:8080/"
        },
        "id": "c_DbEsDyT6GS",
        "outputId": "2ca10c97-587a-456e-ebd9-59e4a4fcf2cf"
      },
      "execution_count": null,
      "outputs": [
        {
          "output_type": "stream",
          "name": "stdout",
          "text": [
            "10\n",
            "0\n"
          ]
        }
      ]
    },
    {
      "cell_type": "code",
      "source": [
        "from collections import defaultdict\n",
        "\n",
        "missing_proof = defaultdict(int)\n",
        "print(missing_proof['the'])\n",
        "print(missing_proof)"
      ],
      "metadata": {
        "colab": {
          "base_uri": "https://localhost:8080/"
        },
        "id": "eQ6F2LazVAIH",
        "outputId": "d28d4690-a7ab-445d-c712-ebcc3b274603"
      },
      "execution_count": null,
      "outputs": [
        {
          "output_type": "stream",
          "name": "stdout",
          "text": [
            "0\n",
            "defaultdict(<class 'int'>, {'the': 0})\n"
          ]
        }
      ]
    },
    {
      "cell_type": "code",
      "source": [
        "# Built-in Dictionary Functions\n",
        "# keys() - returns the keys of a dictionary\n",
        "# values() - returns the values of a dictionary\n",
        "# items() - returns the key-value pairs of a dictionary\n",
        "\n",
        "# the keys can be strings, numbers, or imutable structures\n",
        "# Mutable keys, like a list will generate an error"
      ],
      "metadata": {
        "id": "6Y8jSBzEVKVx"
      },
      "execution_count": null,
      "outputs": []
    },
    {
      "cell_type": "code",
      "source": [
        "print(wordcount.keys())\n",
        "print(wordcount.values())\n",
        "print(wordcount.items())"
      ],
      "metadata": {
        "colab": {
          "base_uri": "https://localhost:8080/"
        },
        "id": "6CKyb3VGV20X",
        "outputId": "3f0494d0-7de9-401e-b0d2-24560c33992b"
      },
      "execution_count": null,
      "outputs": [
        {
          "output_type": "stream",
          "name": "stdout",
          "text": [
            "dict_keys(['a', 'And', 'the'])\n",
            "dict_values([21, 10, 18])\n",
            "dict_items([('a', 21), ('And', 10), ('the', 18)])\n"
          ]
        }
      ]
    },
    {
      "cell_type": "code",
      "source": [
        "# Counting the letters of a text\n",
        "\n",
        "letter_count = {}\n",
        "for letter in iliad_opening.lower():\n",
        "  if letter in alphabet:\n",
        "    if letter in letter_count:\n",
        "      letter_count[letter] += 1\n",
        "    else:\n",
        "      letter_count[letter] = 1\n",
        "print(letter_count)"
      ],
      "metadata": {
        "colab": {
          "base_uri": "https://localhost:8080/"
        },
        "id": "O4tns2R1WKhM",
        "outputId": "738daa04-fc40-48c0-d07c-82e6c042f779"
      },
      "execution_count": null,
      "outputs": [
        {
          "output_type": "stream",
          "name": "stdout",
          "text": [
            "{'s': 22, 'i': 15, 'n': 21, 'g': 8, 'o': 27, 'd': 16, 'e': 31, 't': 20, 'h': 17, 'r': 15, 'f': 11, 'l': 17, 'p': 3, 'u': 12, 'm': 4, 'y': 6, 'v': 3, 'w': 4, 'j': 1, 'k': 1}\n"
          ]
        }
      ]
    },
    {
      "cell_type": "code",
      "source": [
        "print(letter_count.keys())\n",
        "print(letter_count.values())\n",
        "print(letter_count.items())"
      ],
      "metadata": {
        "colab": {
          "base_uri": "https://localhost:8080/"
        },
        "id": "NSljXu3IW-GL",
        "outputId": "d2654448-e3b1-47a4-add3-84ed4a865ba7"
      },
      "execution_count": null,
      "outputs": [
        {
          "output_type": "stream",
          "name": "stdout",
          "text": [
            "dict_keys(['s', 'i', 'n', 'g', 'o', 'd', 'e', 't', 'h', 'r', 'f', 'l', 'p', 'u', 'm', 'y', 'v', 'w', 'j', 'k'])\n",
            "dict_values([22, 15, 21, 8, 27, 16, 31, 20, 17, 15, 11, 17, 3, 12, 4, 6, 3, 4, 1, 1])\n",
            "dict_items([('s', 22), ('i', 15), ('n', 21), ('g', 8), ('o', 27), ('d', 16), ('e', 31), ('t', 20), ('h', 17), ('r', 15), ('f', 11), ('l', 17), ('p', 3), ('u', 12), ('m', 4), ('y', 6), ('v', 3), ('w', 4), ('j', 1), ('k', 1)])\n"
          ]
        }
      ]
    },
    {
      "cell_type": "code",
      "source": [
        "# printing the letter in an alphabetical order\n",
        "for letter in sorted(letter_count.keys()):\n",
        "  print(letter, letter_count[letter])"
      ],
      "metadata": {
        "colab": {
          "base_uri": "https://localhost:8080/"
        },
        "id": "pcqr4HKRXG-2",
        "outputId": "926b0f72-960f-4b59-d8d3-51fb10d2c99f"
      },
      "execution_count": null,
      "outputs": [
        {
          "output_type": "stream",
          "name": "stdout",
          "text": [
            "d 16\n",
            "e 31\n",
            "f 11\n",
            "g 8\n",
            "h 17\n",
            "i 15\n",
            "j 1\n",
            "k 1\n",
            "l 17\n",
            "m 4\n",
            "n 21\n",
            "o 27\n",
            "p 3\n",
            "r 15\n",
            "s 22\n",
            "t 20\n",
            "u 12\n",
            "v 3\n",
            "w 4\n",
            "y 6\n"
          ]
        }
      ]
    },
    {
      "cell_type": "code",
      "source": [
        "# sorting the letters from the least frequent to the most frequent\n",
        "for letter in sorted(letter_count.keys(),\n",
        "                     key=letter_count.get, reverse=True):\n",
        "  print(letter, letter_count[letter])"
      ],
      "metadata": {
        "colab": {
          "base_uri": "https://localhost:8080/"
        },
        "id": "dv8wStN6Xssn",
        "outputId": "95d80685-4651-440a-dc53-b6825148b8ef"
      },
      "execution_count": null,
      "outputs": [
        {
          "output_type": "stream",
          "name": "stdout",
          "text": [
            "e 31\n",
            "o 27\n",
            "s 22\n",
            "n 21\n",
            "t 20\n",
            "h 17\n",
            "l 17\n",
            "d 16\n",
            "i 15\n",
            "r 15\n",
            "u 12\n",
            "f 11\n",
            "g 8\n",
            "y 6\n",
            "m 4\n",
            "w 4\n",
            "p 3\n",
            "v 3\n",
            "j 1\n",
            "k 1\n"
          ]
        }
      ]
    },
    {
      "cell_type": "code",
      "source": [
        "# Control Structures\n",
        "# Two parts header and the suite\n",
        "# if, for, while"
      ],
      "metadata": {
        "id": "MfI26Y9OZDGO"
      },
      "execution_count": null,
      "outputs": []
    },
    {
      "cell_type": "code",
      "source": [
        "# Conditionals\n",
        "# if, elif, else\n",
        "\n",
        "digits = '0123456789'\n",
        "punctuation = '.,;:?!'\n",
        "\n",
        "char = '.'\n",
        "if char in alphabet:\n",
        "  print('Letter')\n",
        "elif char in digits:\n",
        "  print('Number')\n",
        "elif char in punctuation:\n",
        "  print('Punctuation')\n",
        "else:\n",
        "  print('Other')"
      ],
      "metadata": {
        "colab": {
          "base_uri": "https://localhost:8080/"
        },
        "id": "AcBRqzqIalYg",
        "outputId": "d8439b85-1ffc-4d80-c81e-9dcf003feaf3"
      },
      "execution_count": null,
      "outputs": [
        {
          "output_type": "stream",
          "name": "stdout",
          "text": [
            "Punctuation\n"
          ]
        }
      ]
    },
    {
      "cell_type": "code",
      "source": [
        "# For Loop\n",
        "# iterates over the elements of a sequence\n",
        "# range(start, stop, step)\n",
        "# range() uses a constant memory\n",
        "\n",
        "sum = 0\n",
        "for i in range(100):\n",
        "  sum += 1\n",
        "print(sum)"
      ],
      "metadata": {
        "colab": {
          "base_uri": "https://localhost:8080/"
        },
        "id": "_DwyXFMEbG1T",
        "outputId": "47e58103-5d2d-4d9e-9ac8-9d115668c086"
      },
      "execution_count": null,
      "outputs": [
        {
          "output_type": "stream",
          "name": "stdout",
          "text": [
            "100\n"
          ]
        }
      ]
    },
    {
      "cell_type": "code",
      "source": [
        "# converting range to list\n",
        "list10 = list(range(5))\n",
        "print(list10)"
      ],
      "metadata": {
        "colab": {
          "base_uri": "https://localhost:8080/"
        },
        "id": "nccqUkIObqo2",
        "outputId": "04f62655-0873-4c9d-b689-16877cd428d4"
      },
      "execution_count": null,
      "outputs": [
        {
          "output_type": "stream",
          "name": "stdout",
          "text": [
            "[0, 1, 2, 3, 4]\n"
          ]
        }
      ]
    },
    {
      "cell_type": "code",
      "source": [
        "# enumerate()\n",
        "# takes a sequence as argument and returns a sequence of (index, element) pairs\n",
        "\n",
        "for idx, letter in enumerate(alphabet):\n",
        "  print(idx, letter)"
      ],
      "metadata": {
        "colab": {
          "base_uri": "https://localhost:8080/"
        },
        "id": "HLnaMecrb7Iy",
        "outputId": "da31ea34-5170-49c3-8ef6-5d95a2b88615"
      },
      "execution_count": null,
      "outputs": [
        {
          "output_type": "stream",
          "name": "stdout",
          "text": [
            "0 α\n",
            "1 β\n",
            "2 γ\n",
            "3 d\n",
            "4 e\n",
            "5 f\n",
            "6 g\n",
            "7 h\n",
            "8 i\n",
            "9 j\n",
            "10 k\n",
            "11 l\n",
            "12 m\n",
            "13 n\n",
            "14 o\n",
            "15 p\n",
            "16 q\n",
            "17 r\n",
            "18 s\n",
            "19 t\n",
            "20 u\n",
            "21 v\n",
            "22 w\n",
            "23 x\n",
            "24 y\n",
            "25 z\n"
          ]
        }
      ]
    },
    {
      "cell_type": "code",
      "source": [
        "# While loop\n",
        "sum, i = 0, 0\n",
        "while i < 100:\n",
        "  sum += i\n",
        "  i += 1\n",
        "print(sum)"
      ],
      "metadata": {
        "colab": {
          "base_uri": "https://localhost:8080/"
        },
        "id": "HLi1yUGQcjRt",
        "outputId": "1711a432-4d58-4520-8f90-3da4093f9ca3"
      },
      "execution_count": null,
      "outputs": [
        {
          "output_type": "stream",
          "name": "stdout",
          "text": [
            "4950\n"
          ]
        }
      ]
    },
    {
      "cell_type": "code",
      "source": [
        "# Another possible structure using an infinite loop and a break statement to exit another loop\n",
        "\n",
        "sum, i = 0, 0\n",
        "while True:\n",
        "  sum += i\n",
        "  i += 1\n",
        "  if i >= 100:\n",
        "    break\n",
        "print(sum)"
      ],
      "metadata": {
        "colab": {
          "base_uri": "https://localhost:8080/"
        },
        "id": "_Sv5HBGAdMpr",
        "outputId": "e9866499-c4bc-4476-da84-7ed82482b022"
      },
      "execution_count": null,
      "outputs": [
        {
          "output_type": "stream",
          "name": "stdout",
          "text": [
            "4950\n"
          ]
        }
      ]
    },
    {
      "cell_type": "code",
      "source": [
        "a = bool(True)\n",
        "b = bool(False)\n",
        "\n",
        "print(a, b)\n",
        "print(int(a), int(b))\n",
        "print(int(True), int(False))"
      ],
      "metadata": {
        "colab": {
          "base_uri": "https://localhost:8080/"
        },
        "id": "_OMfqr1hdlnh",
        "outputId": "eb263331-da51-4c92-9eb8-77e718784f5c"
      },
      "execution_count": null,
      "outputs": [
        {
          "output_type": "stream",
          "name": "stdout",
          "text": [
            "True False\n",
            "1 0\n",
            "1 0\n"
          ]
        }
      ]
    },
    {
      "cell_type": "code",
      "source": [
        "# Exceptions\n",
        "# Python has a mechanism to handle errors\n",
        "# so that they do not stop a program\n",
        "# it uses try and except keywords"
      ],
      "metadata": {
        "id": "aS8LV3pod9nk"
      },
      "execution_count": null,
      "outputs": []
    },
    {
      "cell_type": "code",
      "source": [
        "try:\n",
        "  int(alphabet)\n",
        "  int('12.0')\n",
        "except:\n",
        "  pass\n",
        "  print('Cleared the exception!')"
      ],
      "metadata": {
        "colab": {
          "base_uri": "https://localhost:8080/"
        },
        "id": "adgxDWL-eHTE",
        "outputId": "34f4857b-a91f-4fd8-953d-6591be545bb4"
      },
      "execution_count": null,
      "outputs": [
        {
          "output_type": "stream",
          "name": "stdout",
          "text": [
            "Cleared the exception!\n"
          ]
        }
      ]
    },
    {
      "cell_type": "code",
      "source": [
        "try:\n",
        "  int(alphabet)\n",
        "  int('12.0')\n",
        "except ValueError:\n",
        "  print('Caught a value error!')\n",
        "except TypeError:\n",
        "  print('Caught a type error!')"
      ],
      "metadata": {
        "colab": {
          "base_uri": "https://localhost:8080/"
        },
        "id": "oCs8szgIeTxH",
        "outputId": "ea45ed11-0e1b-45df-b8b2-a75a070af00c"
      },
      "execution_count": null,
      "outputs": [
        {
          "output_type": "stream",
          "name": "stdout",
          "text": [
            "Caught a value error!\n"
          ]
        }
      ]
    },
    {
      "cell_type": "code",
      "source": [
        "# Functions\n",
        "def count_letters(text, lc):\n",
        "  letter_count = {}\n",
        "  if lc:\n",
        "    text = text.lower()\n",
        "  for letter in text:\n",
        "    if letter.lower() in alphabet:\n",
        "      if letter in letter_count:\n",
        "        letter_count[letter] += 1\n",
        "      else:\n",
        "        letter_count[letter] = 1\n",
        "  return letter_count"
      ],
      "metadata": {
        "id": "Uc5RtKtReu25"
      },
      "execution_count": null,
      "outputs": []
    },
    {
      "cell_type": "code",
      "source": [
        "# calling the function\n",
        "count_letters(iliad_opening, True)"
      ],
      "metadata": {
        "colab": {
          "base_uri": "https://localhost:8080/"
        },
        "id": "PU0_G6TmfUYk",
        "outputId": "66bfe120-ce85-4d08-a68a-a3434f585c85"
      },
      "execution_count": null,
      "outputs": [
        {
          "output_type": "execute_result",
          "data": {
            "text/plain": [
              "{'s': 22,\n",
              " 'i': 15,\n",
              " 'n': 21,\n",
              " 'g': 8,\n",
              " 'o': 27,\n",
              " 'd': 16,\n",
              " 'e': 31,\n",
              " 't': 20,\n",
              " 'h': 17,\n",
              " 'r': 15,\n",
              " 'f': 11,\n",
              " 'l': 17,\n",
              " 'p': 3,\n",
              " 'u': 12,\n",
              " 'm': 4,\n",
              " 'y': 6,\n",
              " 'v': 3,\n",
              " 'w': 4,\n",
              " 'j': 1,\n",
              " 'k': 1}"
            ]
          },
          "metadata": {},
          "execution_count": 82
        }
      ]
    },
    {
      "cell_type": "code",
      "source": [
        "print(type(count_letters))"
      ],
      "metadata": {
        "colab": {
          "base_uri": "https://localhost:8080/"
        },
        "id": "mxnh-MTqfh_w",
        "outputId": "644d0dec-e90c-40b9-f468-48a8e2a35e31"
      },
      "execution_count": null,
      "outputs": [
        {
          "output_type": "stream",
          "name": "stdout",
          "text": [
            "<class 'function'>\n"
          ]
        }
      ]
    },
    {
      "cell_type": "code",
      "source": [
        "def count_letters(text, lc=True):\n",
        "  \"\"\"\n",
        "  Count the letters in a text\n",
        "  Arguments:\n",
        "    text: input text\n",
        "    lc: lowercase. If true, sets the characters\n",
        "    in lowercase\n",
        "  Returns: The letter counts\n",
        "  \"\"\""
      ],
      "metadata": {
        "id": "O1kJeJjUgQ2b"
      },
      "execution_count": null,
      "outputs": []
    },
    {
      "cell_type": "code",
      "source": [
        "# Type Hinting (a.k.a. Type Annotations)\n",
        "def count_letters(text: str, lc=True: bool) -> dict[str, int]:\n",
        "  \"\"\"\n",
        "  Count the letters in a text\n",
        "  Arguments:\n",
        "    text: input text\n",
        "    lc: lowercase. If true, sets the characters\n",
        "    in lowercase\n",
        "  Returns: The letter counts\n",
        "  \"\"\""
      ],
      "metadata": {
        "colab": {
          "base_uri": "https://localhost:8080/",
          "height": 106
        },
        "id": "0uUJLK7Sg6Oc",
        "outputId": "40e3f696-9be7-49fc-ca7c-91cc2c79ee2a"
      },
      "execution_count": null,
      "outputs": [
        {
          "output_type": "error",
          "ename": "SyntaxError",
          "evalue": "invalid syntax (<ipython-input-85-931af20fcb0c>, line 1)",
          "traceback": [
            "\u001b[0;36m  File \u001b[0;32m\"<ipython-input-85-931af20fcb0c>\"\u001b[0;36m, line \u001b[0;32m1\u001b[0m\n\u001b[0;31m    def count_letters(text: str, lc=True: bool) -> dict[str, int]:\u001b[0m\n\u001b[0m                                        ^\u001b[0m\n\u001b[0;31mSyntaxError\u001b[0m\u001b[0;31m:\u001b[0m invalid syntax\n"
          ]
        }
      ]
    },
    {
      "cell_type": "code",
      "source": [
        "# Comprehensions and Generators\n",
        "\n",
        "# Instead of loops the comprehensions are an alternative, consise\n",
        "# syntactic notation to create lists, sets, or dictionaries"
      ],
      "metadata": {
        "id": "cSOTaME2luXK"
      },
      "execution_count": null,
      "outputs": []
    },
    {
      "cell_type": "code",
      "source": [
        "# Given an input word, we can generate all the one-character\n",
        "# deletions in two steps\n",
        "# first, we split the word into two parts\n",
        "# then we delete the first letter of the second part\n",
        "\n",
        "word = 'acress'\n",
        "splits = [(word[:i], word[i:]) for i in range(len(word) + 1)]\n",
        "print(word)\n",
        "print(splits)"
      ],
      "metadata": {
        "colab": {
          "base_uri": "https://localhost:8080/"
        },
        "id": "i0LrUDeVmTJA",
        "outputId": "a4052744-bbfa-44b1-ac12-4e42dd93ebd7"
      },
      "execution_count": null,
      "outputs": [
        {
          "output_type": "stream",
          "name": "stdout",
          "text": [
            "acress\n",
            "[('', 'acress'), ('a', 'cress'), ('ac', 'ress'), ('acr', 'ess'), ('acre', 'ss'), ('acres', 's'), ('acress', '')]\n"
          ]
        }
      ]
    },
    {
      "cell_type": "code",
      "source": [
        "deletes = [a + b[1:] for a, b in splits if b]\n",
        "print(deletes)"
      ],
      "metadata": {
        "colab": {
          "base_uri": "https://localhost:8080/"
        },
        "id": "kIC9XhX5nZKc",
        "outputId": "5bec1089-0f14-4891-e9a3-675939c4f709"
      },
      "execution_count": null,
      "outputs": [
        {
          "output_type": "stream",
          "name": "stdout",
          "text": [
            "['cress', 'aress', 'acess', 'acrss', 'acres', 'acres']\n"
          ]
        }
      ]
    },
    {
      "cell_type": "code",
      "source": [
        "# without comprehension\n",
        "splits = []\n",
        "for i in range(len(word) + 1):\n",
        "  splits.append((word[:i], word[i:]))\n",
        "\n",
        "print(splits)"
      ],
      "metadata": {
        "colab": {
          "base_uri": "https://localhost:8080/"
        },
        "id": "-AbZsUP7R7Rj",
        "outputId": "e1722340-3d82-45ca-cbc8-3b9c11dee0f4"
      },
      "execution_count": null,
      "outputs": [
        {
          "output_type": "stream",
          "name": "stdout",
          "text": [
            "[('', 'acress'), ('a', 'cress'), ('ac', 'ress'), ('acr', 'ess'), ('acre', 'ss'), ('acres', 's'), ('acress', '')]\n"
          ]
        }
      ]
    },
    {
      "cell_type": "code",
      "source": [
        "deletes = []\n",
        "for a,b in splits:\n",
        "  if b:\n",
        "    deletes.append(a+b[1:])\n",
        "print(deletes)"
      ],
      "metadata": {
        "colab": {
          "base_uri": "https://localhost:8080/"
        },
        "id": "Cz4OgKQYSLWT",
        "outputId": "19e9a69c-8902-4a72-fd9a-3f378dcf55af"
      },
      "execution_count": null,
      "outputs": [
        {
          "output_type": "stream",
          "name": "stdout",
          "text": [
            "['cress', 'aress', 'acess', 'acrss', 'acres', 'acres']\n"
          ]
        }
      ]
    },
    {
      "cell_type": "code",
      "source": [
        "# Generators\n",
        "# List comprehensions are stored in memory\n",
        "# If the list is large, it can exceed the computer capacity\n",
        "# Generators generate the elements on demand instead and can\n",
        "# handle much longer sequences\n",
        "# same syntax structure as comprehensions, just replaced by ()"
      ],
      "metadata": {
        "id": "ejgZIXkKTJ5t"
      },
      "execution_count": null,
      "outputs": []
    },
    {
      "cell_type": "code",
      "source": [
        "# same example as above\n",
        "splits_generator = ((word[:1], word[i:])\n",
        "    for i in range(len(word) + 1)\n",
        ")\n",
        "\n",
        "for i in splits_generator: print(i)"
      ],
      "metadata": {
        "colab": {
          "base_uri": "https://localhost:8080/"
        },
        "id": "U7kKmToeTqhM",
        "outputId": "42c095ed-caf3-4c4e-f3a8-c8047eef3183"
      },
      "execution_count": null,
      "outputs": [
        {
          "output_type": "stream",
          "name": "stdout",
          "text": [
            "('a', 'acress')\n",
            "('a', 'cress')\n",
            "('a', 'ress')\n",
            "('a', 'ess')\n",
            "('a', 'ss')\n",
            "('a', 's')\n",
            "('a', '')\n"
          ]
        }
      ]
    },
    {
      "cell_type": "code",
      "source": [
        "def splits_generator_function():\n",
        "  for i in range(len(word) + 1):\n",
        "    yield (word[:i], word[i:])\n",
        "\n",
        "splits_generator = splits_generator_function()\n",
        "print(splits_generator)"
      ],
      "metadata": {
        "colab": {
          "base_uri": "https://localhost:8080/"
        },
        "id": "QuuaXksUUCr7",
        "outputId": "f3ef147c-4968-4fa2-a8e4-078a8c6d417b"
      },
      "execution_count": null,
      "outputs": [
        {
          "output_type": "stream",
          "name": "stdout",
          "text": [
            "<generator object splits_generator_function at 0x7fce3c4b4d60>\n"
          ]
        }
      ]
    },
    {
      "cell_type": "code",
      "source": [
        "# Iterators\n",
        "# iter() and next()\n",
        "\n",
        "my_iterator = iter('abc')\n",
        "print(next(my_iterator)) # a\n",
        "print(next(my_iterator)) # b\n",
        "print(next(my_iterator)) # c"
      ],
      "metadata": {
        "colab": {
          "base_uri": "https://localhost:8080/"
        },
        "id": "8SHqbXx4UfHP",
        "outputId": "82300e81-45f2-4924-b412-116a500c7aa7"
      },
      "execution_count": null,
      "outputs": [
        {
          "output_type": "stream",
          "name": "stdout",
          "text": [
            "a\n",
            "b\n",
            "c\n"
          ]
        }
      ]
    },
    {
      "cell_type": "code",
      "source": [
        "# zip\n",
        "# zip() weaves strings, lists, or tuples and creates an iterator of tuples\n",
        "# where each tuple contains the iterms with the same index\n",
        "\n",
        "latin_alphabet = \"abcdefghijklmnopqrstuvwxyz\"\n",
        "print(len(latin_alphabet))\n",
        "\n",
        "greek_alphabet = \"αβγδεζηθικλμνξοπρστυφχψω\"\n",
        "print(len(greek_alphabet))\n",
        "\n",
        "cyrillic_alphabet = \"абвгдеёжзийклмнопрстуфхцчшщъыьэюя\"\n",
        "print(len(cyrillic_alphabet))"
      ],
      "metadata": {
        "colab": {
          "base_uri": "https://localhost:8080/"
        },
        "id": "81EPDKVkVUyV",
        "outputId": "0f032096-4840-45d4-b5bb-9d9673373ea7"
      },
      "execution_count": null,
      "outputs": [
        {
          "output_type": "stream",
          "name": "stdout",
          "text": [
            "26\n",
            "24\n",
            "33\n"
          ]
        }
      ]
    },
    {
      "cell_type": "code",
      "source": [
        "la_gr = zip(latin_alphabet[:3], greek_alphabet[:3])\n",
        "la_gr_cy = zip(latin_alphabet[:3], greek_alphabet[:3], cyrillic_alphabet[:3])\n",
        "print(la_gr)\n",
        "print(la_gr_cy)"
      ],
      "metadata": {
        "colab": {
          "base_uri": "https://localhost:8080/"
        },
        "id": "_OiBHwFKcnT9",
        "outputId": "09b27098-8bb1-4a36-ec03-252c6ec3c865"
      },
      "execution_count": null,
      "outputs": [
        {
          "output_type": "stream",
          "name": "stdout",
          "text": [
            "<zip object at 0x7fce3c4d2540>\n",
            "<zip object at 0x7fce3c4d09c0>\n"
          ]
        }
      ]
    },
    {
      "cell_type": "code",
      "source": [
        "# Start at page 33"
      ],
      "metadata": {
        "id": "Gh5q4uD6dPz8"
      },
      "execution_count": null,
      "outputs": []
    }
  ]
}